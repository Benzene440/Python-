{
 "cells": [
  {
   "cell_type": "code",
   "execution_count": null,
   "id": "39e96ecf",
   "metadata": {},
   "outputs": [],
   "source": [
    "#3rd question\n"
   ]
  },
  {
   "cell_type": "code",
   "execution_count": 25,
   "id": "bdb35660",
   "metadata": {},
   "outputs": [
    {
     "name": "stdout",
     "output_type": "stream",
     "text": [
      "Please Enter your Own String : A man's personal defects will commonly have with the rest of the world precisely that importance which they have to himself. If he makes light of them, so will other men.\n",
      "\n",
      "Total Number of Alphabets in this String :   136\n",
      "Total Number of Digits in this String :   0\n",
      "Total Number of Special Characters in this String :   0\n"
     ]
    },
    {
     "ename": "NameError",
     "evalue": "name 'vowels_016' is not defined",
     "output_type": "error",
     "traceback": [
      "\u001b[0;31m---------------------------------------------------------------------------\u001b[0m",
      "\u001b[0;31mNameError\u001b[0m                                 Traceback (most recent call last)",
      "\u001b[0;32m/tmp/ipykernel_7969/278768082.py\u001b[0m in \u001b[0;36m<module>\u001b[0;34m\u001b[0m\n\u001b[1;32m     15\u001b[0m \u001b[0mprint\u001b[0m\u001b[0;34m(\u001b[0m\u001b[0;34m\"Total Number of Digits in this String :  \"\u001b[0m\u001b[0;34m,\u001b[0m \u001b[0mdigits_016\u001b[0m\u001b[0;34m)\u001b[0m\u001b[0;34m\u001b[0m\u001b[0;34m\u001b[0m\u001b[0m\n\u001b[1;32m     16\u001b[0m \u001b[0mprint\u001b[0m\u001b[0;34m(\u001b[0m\u001b[0;34m\"Total Number of Special Characters in this String :  \"\u001b[0m\u001b[0;34m,\u001b[0m \u001b[0mspecial_016\u001b[0m\u001b[0;34m)\u001b[0m\u001b[0;34m\u001b[0m\u001b[0;34m\u001b[0m\u001b[0m\n\u001b[0;32m---> 17\u001b[0;31m \u001b[0mprint\u001b[0m\u001b[0;34m(\u001b[0m\u001b[0;34m\"Total Number of Vowels in this string:\"\u001b[0m\u001b[0;34m,\u001b[0m \u001b[0mvowels_016\u001b[0m\u001b[0;34m)\u001b[0m\u001b[0;34m\u001b[0m\u001b[0;34m\u001b[0m\u001b[0m\n\u001b[0m\u001b[1;32m     18\u001b[0m \u001b[0mprint\u001b[0m\u001b[0;34m(\u001b[0m\u001b[0;34m\"Total Number of consonants in this string:\"\u001b[0m\u001b[0;34m,\u001b[0m \u001b[0mconsonants_016\u001b[0m\u001b[0;34m)\u001b[0m\u001b[0;34m\u001b[0m\u001b[0;34m\u001b[0m\u001b[0m\n\u001b[1;32m     19\u001b[0m \u001b[0;34m\u001b[0m\u001b[0m\n",
      "\u001b[0;31mNameError\u001b[0m: name 'vowels_016' is not defined"
     ]
    }
   ],
   "source": [
    "#Ktu id =cea20ec016 \n",
    "\n",
    "n_ec016 = input(\"Please Enter your Own String : \")\n",
    "alphabets_016 = digits_016 = special_016 =0\n",
    "for i in range(len(n_ec016)):\n",
    "    if(n_ec016[i].isalpha()):\n",
    "        alphabets_016 = alphabets_016 + 1\n",
    "    elif(n_ec016[i].isdigit()):\n",
    "        digits_016 = digits_016 + 1\n",
    "        special_016 = special_016 + 1\n",
    "    if(n_ec016=='a'or n_ec016=='e'or n_ec016=='i'or n_ec016=='o'or n_ec016=='u'):\n",
    "        vowel_016 =vowel_016 +1\n",
    "        consonants_016+=1\n",
    "print(\"\\nTotal Number of Alphabets in this String :  \", alphabets_016)\n",
    "print(\"Total Number of Digits in this String :  \", digits_016)\n",
    "print(\"Total Number of Special Characters in this String :  \", special_016)\n",
    "print(\"Total Number of Vowels in this string:\", vowels_016)\n",
    "print(\"Total Number of consonants in this string:\", consonants_016)\n",
    "     "
   ]
  },
  {
   "cell_type": "code",
   "execution_count": null,
   "id": "0a041a0d",
   "metadata": {
    "scrolled": true
   },
   "outputs": [],
   "source": [
    "n_ec016 =input(\"Enter the string:\") \n",
    "if (ch=='a' or ch=='e' or ch=='i' or ch=='o' or ch=='u') :\n",
    "    vowels+=1\n",
    "    els\n",
    "    Constonant+=1"
   ]
  },
  {
   "cell_type": "code",
   "execution_count": null,
   "id": "a60609cf",
   "metadata": {},
   "outputs": [],
   "source": []
  }
 ],
 "metadata": {
  "kernelspec": {
   "display_name": "Python 3 (ipykernel)",
   "language": "python",
   "name": "python3"
  },
  "language_info": {
   "codemirror_mode": {
    "name": "ipython",
    "version": 3
   },
   "file_extension": ".py",
   "mimetype": "text/x-python",
   "name": "python",
   "nbconvert_exporter": "python",
   "pygments_lexer": "ipython3",
   "version": "3.8.5"
  }
 },
 "nbformat": 4,
 "nbformat_minor": 5
}
