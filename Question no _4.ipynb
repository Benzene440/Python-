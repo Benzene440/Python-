{
 "cells": [
  {
   "cell_type": "code",
   "execution_count": null,
   "id": "7f1c9905",
   "metadata": {},
   "outputs": [],
   "source": [
    "#parvathi poorna question no 4\n"
   ]
  },
  {
   "cell_type": "code",
   "execution_count": 9,
   "id": "082ee2ac",
   "metadata": {},
   "outputs": [
    {
     "name": "stdout",
     "output_type": "stream",
     "text": [
      "20016 is a leap year\n"
     ]
    }
   ],
   "source": [
    "#ktu id=cea20ec016 \n",
    "\n",
    "# Python program to check if year is a leap year or not\n",
    "year_ec016= 20016\n",
    "if (year_ec016 % 400 ==0) and (year_ec016 % 100 ==0):\n",
    "    print(\"{0} is a leap year\".format(year_ec016))\n",
    "elif (year_ec016 % 4 ==0) and (year_ec016 % 100 != 0):\n",
    "    print(\"{0} is a leap year\".format(year_ec016))\n",
    "# if not divided by both 400 (century year) and 4 (not century year)\n",
    "else:\n",
    "    print(\"{0} is not a leap year\".format(year_ec016))# Python program to check if year is a leap year or not\n",
    "    \n",
    "    \n"
   ]
  },
  {
   "cell_type": "code",
   "execution_count": null,
   "id": "ecd53f9e",
   "metadata": {},
   "outputs": [],
   "source": []
  }
 ],
 "metadata": {
  "kernelspec": {
   "display_name": "Python 3 (ipykernel)",
   "language": "python",
   "name": "python3"
  },
  "language_info": {
   "codemirror_mode": {
    "name": "ipython",
    "version": 3
   },
   "file_extension": ".py",
   "mimetype": "text/x-python",
   "name": "python",
   "nbconvert_exporter": "python",
   "pygments_lexer": "ipython3",
   "version": "3.8.5"
  }
 },
 "nbformat": 4,
 "nbformat_minor": 5
}
