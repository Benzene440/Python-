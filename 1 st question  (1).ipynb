{
 "cells": [
  {
   "cell_type": "code",
   "execution_count": null,
   "id": "0962b6ad",
   "metadata": {},
   "outputs": [],
   "source": [
    "# parvathi poorna ;016\n",
    "#1st question \n",
    " \n",
    "  "
   ]
  },
  {
   "cell_type": "code",
   "execution_count": 2,
   "id": "1fec71c3",
   "metadata": {},
   "outputs": [
    {
     "name": "stdout",
     "output_type": "stream",
     "text": [
      "Enter a number to reverse:20016\n",
      "reversed number is : 61002\n",
      "digit sum is : 9\n"
     ]
    }
   ],
   "source": [
    "#my ktu id =cea20ec016 =20016\n",
    "\n",
    "n_ec016=int(input(\"Enter a number to reverse:\")) \n",
    "c_ec016=0\n",
    "Sum_ec016=0\n",
    "while n_ec016>0:\n",
    "    S_ec016=n_ec016%10\n",
    "    c_ec016=c_ec016*10+S_ec016\n",
    "    Sum_ec016=Sum_ec016+S_ec016\n",
    "    n_ec016=n_ec016//10\n",
    "print(\"reversed number is :\",c_ec016)\n",
    "print(\"digit sum is :\", Sum_ec016) \n",
    "    "
   ]
  },
  {
   "cell_type": "code",
   "execution_count": null,
   "id": "c892a582",
   "metadata": {},
   "outputs": [],
   "source": []
  }
 ],
 "metadata": {
  "kernelspec": {
   "display_name": "Python 3 (ipykernel)",
   "language": "python",
   "name": "python3"
  },
  "language_info": {
   "codemirror_mode": {
    "name": "ipython",
    "version": 3
   },
   "file_extension": ".py",
   "mimetype": "text/x-python",
   "name": "python",
   "nbconvert_exporter": "python",
   "pygments_lexer": "ipython3",
   "version": "3.8.5"
  }
 },
 "nbformat": 4,
 "nbformat_minor": 5
}
