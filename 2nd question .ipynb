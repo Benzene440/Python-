{
 "cells": [
  {
   "cell_type": "code",
   "execution_count": null,
   "id": "308bfd94",
   "metadata": {},
   "outputs": [],
   "source": [
    "#parvathi poorna, 2nd question\n"
   ]
  },
  {
   "cell_type": "code",
   "execution_count": 10,
   "id": "04e77d5c",
   "metadata": {},
   "outputs": [
    {
     "name": "stdout",
     "output_type": "stream",
     "text": [
      "Input an integer : 16\n",
      "16161616161616161616161616161616161616161616 1616 16165\n",
      "Enter a number: 16\n",
      "Positive number\n"
     ]
    }
   ],
   "source": [
    "#ktu id =cea20ec016\n",
    "\n",
    "n_ec016 = int(input(\"Input an integer : \"))\n",
    "a_ec016 = int( \"%s\" % n_ec016*22)\n",
    "b_ec016 = int( \"%s%s\" % (n_ec016,n_ec016) )\n",
    "c_ec016= int( \"%s%s%s\" % (n_ec016,n_ec016,5) )\n",
    "print (a_ec016, b_ec016,c_ec016)\n",
    "n_ec016 = int(input(\"Enter a number: \"))\n",
    "if n_ec016 > 0:\n",
    "   print(\"Positive number\")\n",
    "elif n_ec016 == 0:\n",
    "   print(\"Zero\")\n",
    "else:\n",
    "   print(\"Negative number\")\n"
   ]
  },
  {
   "cell_type": "code",
   "execution_count": null,
   "id": "4150f4e0",
   "metadata": {},
   "outputs": [],
   "source": []
  }
 ],
 "metadata": {
  "kernelspec": {
   "display_name": "Python2",
   "language": "python",
   "name": "python2"
  },
  "language_info": {
   "codemirror_mode": {
    "name": "ipython",
    "version": 3
   },
   "file_extension": ".py",
   "mimetype": "text/x-python",
   "name": "python",
   "nbconvert_exporter": "python",
   "pygments_lexer": "ipython3",
   "version": "3.8.5"
  }
 },
 "nbformat": 4,
 "nbformat_minor": 5
}
